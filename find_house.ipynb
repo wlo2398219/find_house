{
 "cells": [
  {
   "cell_type": "markdown",
   "metadata": {},
   "source": [
    "#### libraries"
   ]
  },
  {
   "cell_type": "code",
   "execution_count": 2,
   "metadata": {
    "collapsed": true
   },
   "outputs": [],
   "source": [
    "from bs4 import BeautifulSoup\n",
    "import requests\n",
    "import pandas as pd\n",
    "from datetime import datetime\n",
    "import googlemaps"
   ]
  },
  {
   "cell_type": "markdown",
   "metadata": {},
   "source": [
    "#### setup url && send request"
   ]
  },
  {
   "cell_type": "code",
   "execution_count": 3,
   "metadata": {},
   "outputs": [],
   "source": [
    "# API KEY: GOOGLE API KEY AND REQUIRED TO BIND WITH CREDIT CARD\n",
    "# REF: https://github.com/googlemaps/google-maps-services-python\n",
    "gmaps = googlemaps.Client(key=\"API KEY\")\n",
    "dst_addr = \"ETH Zürich Hauptgebäude, Rämistrasse, Zürich\"\n",
    "city = \"city-zurich\"\n",
    "price_bt, price_top = 2000, 3000\n",
    "ppl_bt, ppl_top = 4, 6\n",
    "url_template = \"https://www.homegate.ch/rent/real-estate/%s/matching-list?ag=%d&ah=%d&ac=%d&ad=%d&tab=list&o=sortToplisting-desc\"\n",
    "url = url_template%(city, price_bt, price_top, ppl_bt, ppl_top)\n",
    "http_response = requests.get(url)\n",
    "page = BeautifulSoup(http_response.text, 'html.parser')"
   ]
  },
  {
   "cell_type": "code",
   "execution_count": 4,
   "metadata": {
    "collapsed": true
   },
   "outputs": [],
   "source": [
    "def extract_addr(page):\n",
    "    item_class = \"box-row-item box-row-item--sm-4 box-row-item--md-3 box-row-item--data\"\n",
    "    list_addr = []\n",
    "\n",
    "    for item in page.find_all('div', class_ = item_class):\n",
    "        list_addr.append(item.find('p').decode_contents().replace(\"<br>\", \", \").replace(\"<br/>\", \", \").replace(\"</br>\", \"\"))\n",
    "        \n",
    "    return list_addr\n",
    "\n",
    "def extract_info(page):\n",
    "    item_class = \"box-row-item box-row-item--sm-4 box-row-item--md-3 box-row-item--bottom-line-sm box-row-item--attributes\"\n",
    "    list_info = []\n",
    "    \n",
    "    for item in page.find_all('div', class_ = item_class):\n",
    "        infos = item.find_all(\"li\")[1:]\n",
    "        dic = {}\n",
    "        for info in infos:\n",
    "            tmp_ls = info.find_all(\"span\")\n",
    "            try:\n",
    "                dic[tmp_ls[0].text] = tmp_ls[1].text\n",
    "            except:\n",
    "                pass\n",
    "        list_info.append(dic)\n",
    "        \n",
    "    return list_info\n",
    "\n",
    "def extract_price_link(page):\n",
    "    list_price, list_link = [], []\n",
    "    rm_dic = {\"\\n\":\"\", \",\":\"\", \".\":\"\", \"–\":\"\"}\n",
    "    \n",
    "    for item in page.find_all('a', class_ = \"detail-page-link box-row--link\"):\n",
    "        price_str = item.find(\"div\", class_ = \"item-content-label\").find(\"span\").text\n",
    "        for k, v in rm_dic.items():\n",
    "            price_str = price_str.replace(k, v)\n",
    "        list_price.append(price_str.strip())\n",
    "        list_link.append(item.attrs['href'])\n",
    "        \n",
    "    return list_price, list_link"
   ]
  },
  {
   "cell_type": "code",
   "execution_count": 5,
   "metadata": {
    "collapsed": true
   },
   "outputs": [],
   "source": [
    "http_response = requests.get(url)\n",
    "page = BeautifulSoup(http_response.text, 'html.parser')\n",
    "list_info = extract_info(page)\n",
    "list_addr = extract_addr(page)\n",
    "list_price, list_link = extract_price_link(page)\n",
    "\n",
    "\n",
    "# range(2, #pages of results + 1)\n",
    "for ind in range(2,5):\n",
    "    url_new = url+\"&ep=\"+str(ind)\n",
    "    http_response = requests.get(url_new)\n",
    "    page = BeautifulSoup(http_response.text, 'html.parser')\n",
    "    list_info += extract_info(page)\n",
    "    list_addr += extract_addr(page)\n",
    "    list_price_tmp, list_link_tmp = extract_price_link(page)\n",
    "    list_price += list_price_tmp\n",
    "    list_link += list_link_tmp\n",
    "\n",
    "# departure time: 2018/12/12 9:00\n",
    "date = datetime(2018,12,12,9)\n",
    "results = gmaps.distance_matrix(origins=list_addr, \n",
    "                                destinations=dst_addr, \n",
    "                                mode=\"transit\", \n",
    "                                departure_time=date)\n",
    "\n",
    "ls_time = []\n",
    "for item in results['rows']:\n",
    "    ls_time.append(item['elements'][0]['duration']['text'])\n",
    "\n",
    "list_complete = []\n",
    "\n",
    "for ind, info in enumerate(list_info):\n",
    "    info['address'] = list_addr[ind]\n",
    "    info['price'] = list_price[ind]\n",
    "    info['url'] = \"https://www.homegate.ch\" + list_link[ind]\n",
    "    info['time'] = ls_time[ind]\n",
    "    list_complete.append(info)"
   ]
  },
  {
   "cell_type": "code",
   "execution_count": 6,
   "metadata": {
    "collapsed": true
   },
   "outputs": [],
   "source": [
    "df = pd.DataFrame.from_dict(list_complete)\n",
    "df = df[['url', 'address', 'Rooms', 'price', 'time', 'Type', 'Living space', 'Floor']].sort_values('price')\n",
    "df['time'] = df.time.apply(lambda x: int(x.replace(' mins', '')))\n",
    "df = df.sort_values('time')"
   ]
  },
  {
   "cell_type": "code",
   "execution_count": 11,
   "metadata": {},
   "outputs": [],
   "source": [
    "df.head()"
   ]
  },
  {
   "cell_type": "code",
   "execution_count": 9,
   "metadata": {
    "collapsed": true
   },
   "outputs": [],
   "source": [
    "df.to_csv('housing.csv')"
   ]
  }
 ],
 "metadata": {
  "kernelspec": {
   "display_name": "Python 3",
   "language": "python",
   "name": "python3"
  },
  "language_info": {
   "codemirror_mode": {
    "name": "ipython",
    "version": 3
   },
   "file_extension": ".py",
   "mimetype": "text/x-python",
   "name": "python",
   "nbconvert_exporter": "python",
   "pygments_lexer": "ipython3",
   "version": "3.6.3"
  }
 },
 "nbformat": 4,
 "nbformat_minor": 2
}
